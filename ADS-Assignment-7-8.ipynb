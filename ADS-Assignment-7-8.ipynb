{
 "cells": [
  {
   "cell_type": "markdown",
   "id": "eb460d03",
   "metadata": {},
   "source": [
    "# ASSIGNMENT 7\n"
   ]
  },
  {
   "cell_type": "code",
   "execution_count": null,
   "id": "41d120a2",
   "metadata": {},
   "outputs": [],
   "source": [
    "import pandas as pd"
   ]
  },
  {
   "cell_type": "code",
   "execution_count": 2,
   "id": "0ec0477d",
   "metadata": {},
   "outputs": [
    {
     "data": {
      "text/html": [
       "<div>\n",
       "<style scoped>\n",
       "    .dataframe tbody tr th:only-of-type {\n",
       "        vertical-align: middle;\n",
       "    }\n",
       "\n",
       "    .dataframe tbody tr th {\n",
       "        vertical-align: top;\n",
       "    }\n",
       "\n",
       "    .dataframe thead th {\n",
       "        text-align: right;\n",
       "    }\n",
       "</style>\n",
       "<table border=\"1\" class=\"dataframe\">\n",
       "  <thead>\n",
       "    <tr style=\"text-align: right;\">\n",
       "      <th></th>\n",
       "      <th>age</th>\n",
       "      <th>sex</th>\n",
       "      <th>bmi</th>\n",
       "      <th>children</th>\n",
       "      <th>smoker</th>\n",
       "      <th>region</th>\n",
       "      <th>charges</th>\n",
       "    </tr>\n",
       "  </thead>\n",
       "  <tbody>\n",
       "    <tr>\n",
       "      <th>0</th>\n",
       "      <td>19</td>\n",
       "      <td>female</td>\n",
       "      <td>27.900</td>\n",
       "      <td>0</td>\n",
       "      <td>yes</td>\n",
       "      <td>southwest</td>\n",
       "      <td>16884.92400</td>\n",
       "    </tr>\n",
       "    <tr>\n",
       "      <th>1</th>\n",
       "      <td>18</td>\n",
       "      <td>male</td>\n",
       "      <td>33.770</td>\n",
       "      <td>1</td>\n",
       "      <td>no</td>\n",
       "      <td>southeast</td>\n",
       "      <td>1725.55230</td>\n",
       "    </tr>\n",
       "    <tr>\n",
       "      <th>2</th>\n",
       "      <td>28</td>\n",
       "      <td>male</td>\n",
       "      <td>33.000</td>\n",
       "      <td>3</td>\n",
       "      <td>no</td>\n",
       "      <td>southeast</td>\n",
       "      <td>4449.46200</td>\n",
       "    </tr>\n",
       "    <tr>\n",
       "      <th>3</th>\n",
       "      <td>33</td>\n",
       "      <td>male</td>\n",
       "      <td>22.705</td>\n",
       "      <td>0</td>\n",
       "      <td>no</td>\n",
       "      <td>northwest</td>\n",
       "      <td>21984.47061</td>\n",
       "    </tr>\n",
       "    <tr>\n",
       "      <th>4</th>\n",
       "      <td>32</td>\n",
       "      <td>male</td>\n",
       "      <td>28.880</td>\n",
       "      <td>0</td>\n",
       "      <td>no</td>\n",
       "      <td>northwest</td>\n",
       "      <td>3866.85520</td>\n",
       "    </tr>\n",
       "  </tbody>\n",
       "</table>\n",
       "</div>"
      ],
      "text/plain": [
       "   age     sex     bmi  children smoker     region      charges\n",
       "0   19  female  27.900         0    yes  southwest  16884.92400\n",
       "1   18    male  33.770         1     no  southeast   1725.55230\n",
       "2   28    male  33.000         3     no  southeast   4449.46200\n",
       "3   33    male  22.705         0     no  northwest  21984.47061\n",
       "4   32    male  28.880         0     no  northwest   3866.85520"
      ]
     },
     "execution_count": 2,
     "metadata": {},
     "output_type": "execute_result"
    }
   ],
   "source": [
    "path = r'C:\\Users\\9812170414089\\ADS-Assignment-4\\ADS-Assignment-7-8\\insurance.csv'\n",
    "df= pd.read_csv(path)\n",
    "df.head()\n",
    "# df.tail()"
   ]
  },
  {
   "cell_type": "code",
   "execution_count": 3,
   "id": "3458641e",
   "metadata": {},
   "outputs": [
    {
     "name": "stdout",
     "output_type": "stream",
     "text": [
      "<class 'pandas.core.frame.DataFrame'>\n",
      "RangeIndex: 1338 entries, 0 to 1337\n",
      "Data columns (total 7 columns):\n",
      " #   Column    Non-Null Count  Dtype  \n",
      "---  ------    --------------  -----  \n",
      " 0   age       1338 non-null   int64  \n",
      " 1   sex       1338 non-null   object \n",
      " 2   bmi       1338 non-null   float64\n",
      " 3   children  1338 non-null   int64  \n",
      " 4   smoker    1338 non-null   object \n",
      " 5   region    1338 non-null   object \n",
      " 6   charges   1338 non-null   float64\n",
      "dtypes: float64(2), int64(2), object(3)\n",
      "memory usage: 73.3+ KB\n"
     ]
    }
   ],
   "source": [
    "df.info()"
   ]
  },
  {
   "cell_type": "code",
   "execution_count": 4,
   "id": "e5d9ea07",
   "metadata": {},
   "outputs": [
    {
     "data": {
      "text/plain": [
       "(1338, 7)"
      ]
     },
     "execution_count": 4,
     "metadata": {},
     "output_type": "execute_result"
    }
   ],
   "source": [
    "df.shape"
   ]
  },
  {
   "cell_type": "code",
   "execution_count": 5,
   "id": "c3a53227",
   "metadata": {},
   "outputs": [
    {
     "data": {
      "text/html": [
       "<div>\n",
       "<style scoped>\n",
       "    .dataframe tbody tr th:only-of-type {\n",
       "        vertical-align: middle;\n",
       "    }\n",
       "\n",
       "    .dataframe tbody tr th {\n",
       "        vertical-align: top;\n",
       "    }\n",
       "\n",
       "    .dataframe thead th {\n",
       "        text-align: right;\n",
       "    }\n",
       "</style>\n",
       "<table border=\"1\" class=\"dataframe\">\n",
       "  <thead>\n",
       "    <tr style=\"text-align: right;\">\n",
       "      <th></th>\n",
       "      <th>age</th>\n",
       "      <th>bmi</th>\n",
       "      <th>children</th>\n",
       "      <th>charges</th>\n",
       "    </tr>\n",
       "  </thead>\n",
       "  <tbody>\n",
       "    <tr>\n",
       "      <th>count</th>\n",
       "      <td>1338.000000</td>\n",
       "      <td>1338.000000</td>\n",
       "      <td>1338.000000</td>\n",
       "      <td>1338.000000</td>\n",
       "    </tr>\n",
       "    <tr>\n",
       "      <th>mean</th>\n",
       "      <td>39.207025</td>\n",
       "      <td>30.663397</td>\n",
       "      <td>1.094918</td>\n",
       "      <td>13270.422265</td>\n",
       "    </tr>\n",
       "    <tr>\n",
       "      <th>std</th>\n",
       "      <td>14.049960</td>\n",
       "      <td>6.098187</td>\n",
       "      <td>1.205493</td>\n",
       "      <td>12110.011237</td>\n",
       "    </tr>\n",
       "    <tr>\n",
       "      <th>min</th>\n",
       "      <td>18.000000</td>\n",
       "      <td>15.960000</td>\n",
       "      <td>0.000000</td>\n",
       "      <td>1121.873900</td>\n",
       "    </tr>\n",
       "    <tr>\n",
       "      <th>25%</th>\n",
       "      <td>27.000000</td>\n",
       "      <td>26.296250</td>\n",
       "      <td>0.000000</td>\n",
       "      <td>4740.287150</td>\n",
       "    </tr>\n",
       "    <tr>\n",
       "      <th>50%</th>\n",
       "      <td>39.000000</td>\n",
       "      <td>30.400000</td>\n",
       "      <td>1.000000</td>\n",
       "      <td>9382.033000</td>\n",
       "    </tr>\n",
       "    <tr>\n",
       "      <th>75%</th>\n",
       "      <td>51.000000</td>\n",
       "      <td>34.693750</td>\n",
       "      <td>2.000000</td>\n",
       "      <td>16639.912515</td>\n",
       "    </tr>\n",
       "    <tr>\n",
       "      <th>max</th>\n",
       "      <td>64.000000</td>\n",
       "      <td>53.130000</td>\n",
       "      <td>5.000000</td>\n",
       "      <td>63770.428010</td>\n",
       "    </tr>\n",
       "  </tbody>\n",
       "</table>\n",
       "</div>"
      ],
      "text/plain": [
       "               age          bmi     children       charges\n",
       "count  1338.000000  1338.000000  1338.000000   1338.000000\n",
       "mean     39.207025    30.663397     1.094918  13270.422265\n",
       "std      14.049960     6.098187     1.205493  12110.011237\n",
       "min      18.000000    15.960000     0.000000   1121.873900\n",
       "25%      27.000000    26.296250     0.000000   4740.287150\n",
       "50%      39.000000    30.400000     1.000000   9382.033000\n",
       "75%      51.000000    34.693750     2.000000  16639.912515\n",
       "max      64.000000    53.130000     5.000000  63770.428010"
      ]
     },
     "execution_count": 5,
     "metadata": {},
     "output_type": "execute_result"
    }
   ],
   "source": [
    "df.describe()"
   ]
  },
  {
   "cell_type": "code",
   "execution_count": 6,
   "id": "c9bfa516",
   "metadata": {},
   "outputs": [
    {
     "name": "stdout",
     "output_type": "stream",
     "text": [
      "               age       bmi  children   charges\n",
      "age       1.000000  0.109272  0.042469  0.299008\n",
      "bmi       0.109272  1.000000  0.012759  0.198341\n",
      "children  0.042469  0.012759  1.000000  0.067998\n",
      "charges   0.299008  0.198341  0.067998  1.000000\n"
     ]
    }
   ],
   "source": [
    "corr_matrix = df.corr()\n",
    "print(corr_matrix)"
   ]
  },
  {
   "cell_type": "code",
   "execution_count": 7,
   "id": "bf7f7377",
   "metadata": {},
   "outputs": [
    {
     "data": {
      "text/plain": [
       "<AxesSubplot:>"
      ]
     },
     "execution_count": 7,
     "metadata": {},
     "output_type": "execute_result"
    },
    {
     "data": {
      "image/png": "[encoded data removed]",
      "text/plain": [
       "<Figure size 432x288 with 2 Axes>"
      ]
     },
     "metadata": {
      "needs_background": "light"
     },
     "output_type": "display_data"
    }
   ],
   "source": [
    "import seaborn as sns\n",
    "sns.heatmap(corr_matrix, annot=True, cmap='coolwarm')"
   ]
  },
  {
   "cell_type": "code",
   "execution_count": 8,
   "id": "de7507f8",
   "metadata": {},
   "outputs": [
    {
     "data": {
      "image/png": "[encoded data removed]",
      "text/plain": [
       "<Figure size 432x288 with 1 Axes>"
      ]
     },
     "metadata": {
      "needs_background": "light"
     },
     "output_type": "display_data"
    }
   ],
   "source": [
    "import matplotlib.pyplot as plt\n",
    "\n",
    "plt.boxplot(df['charges'])\n",
    "\n",
    "# Add a title and axis labels\n",
    "plt.title('Distribution of Charges')\n",
    "plt.xlabel('Charges')\n",
    "plt.ylabel('Value')\n",
    "\n",
    "# Show the plot\n",
    "plt.show()"
   ]
  },
  {
   "cell_type": "code",
   "execution_count": 9,
   "id": "a718564f",
   "metadata": {},
   "outputs": [
    {
     "data": {
      "image/png": "[encoded data removed]",
      "text/plain": [
       "<Figure size 432x288 with 1 Axes>"
      ]
     },
     "metadata": {
      "needs_background": "light"
     },
     "output_type": "display_data"
    }
   ],
   "source": [
    "#3.\n",
    "plt.hist(df['age'], bins=20)\n",
    "plt.xlabel('Age')\n",
    "plt.ylabel('Count')\n",
    "plt.title('Age Distribution')\n",
    "\n",
    "plt.show()"
   ]
  },
  {
   "cell_type": "markdown",
   "id": "d8928cf1",
   "metadata": {},
   "source": [
    "We can see that the age column is roughly normally distributed, with the majority of the data points between 20 and 60 years old. There are fewer data points for ages outside of this range. The histogram is roughly symmetrical, with the peak occurring around 20-25 years old. We can also see that there are a few outliers at very high ages, which may be worth investigating further. Overall, the histogram provides a useful visualization of the distribution of the \n",
    "age column in the insurance dataset"
   ]
  },
  {
   "cell_type": "code",
   "execution_count": 10,
   "id": "0f03d1fc",
   "metadata": {},
   "outputs": [
    {
     "name": "stdout",
     "output_type": "stream",
     "text": [
      "Continuous columns: ['age', 'bmi', 'charges']\n",
      "Discrete columns: ['children']\n"
     ]
    }
   ],
   "source": [
    "#4 Isolate all the continuous and discrete columns into their respective lists named \n",
    "# ‘numerical_continuous’ and ‘numerical_discrete’ respectively. \n",
    "\n",
    "data_types = df.dtypes\n",
    "numerical_continuous = []\n",
    "numerical_discrete = []\n",
    "for column in data_types.index:\n",
    "    if data_types[column] == 'int64' or data_types[column] == 'float64':\n",
    "        if len(df[column].unique()) > 20:\n",
    "            numerical_continuous.append(column)\n",
    "        else:\n",
    "            numerical_discrete.append(column)\n",
    "\n",
    "print('Continuous columns:', numerical_continuous)\n",
    "print('Discrete columns:', numerical_discrete)\n",
    "\n"
   ]
  },
  {
   "cell_type": "code",
   "execution_count": 11,
   "id": "31c02438",
   "metadata": {},
   "outputs": [
    {
     "data": {
      "image/png": "[encoded data removed]",
      "text/plain": [
       "<Figure size 432x288 with 1 Axes>"
      ]
     },
     "metadata": {
      "needs_background": "light"
     },
     "output_type": "display_data"
    },
    {
     "data": {
      "image/png": "[encoded data removed]",
      "text/plain": [
       "<Figure size 432x288 with 1 Axes>"
      ]
     },
     "metadata": {
      "needs_background": "light"
     },
     "output_type": "display_data"
    },
    {
     "data": {
      "image/png": "[encoded data removed]",
      "text/plain": [
       "<Figure size 432x288 with 1 Axes>"
      ]
     },
     "metadata": {
      "needs_background": "light"
     },
     "output_type": "display_data"
    }
   ],
   "source": [
    "#5 Visually identify if there is presence of any outliers in the numerical_continuous columns\n",
    "\n",
    "numerical_continuous = ['age', 'bmi', 'charges']\n",
    "for column in numerical_continuous:\n",
    "    plt.figure(figsize=(6, 4))\n",
    "    plt.boxplot(df[column], vert=False)\n",
    "    plt.title(column)\n",
    "    plt.show()"
   ]
  },
  {
   "cell_type": "code",
   "execution_count": 12,
   "id": "c3e9f61f",
   "metadata": {},
   "outputs": [
    {
     "name": "stdout",
     "output_type": "stream",
     "text": [
      "Original dataset rows: 1338\n",
      "Cleaned dataset rows: 449\n"
     ]
    }
   ],
   "source": [
    "#5 and resolve them using a zscore test and a threshold of your choosing\n",
    "import numpy as np\n",
    "from scipy.stats import zscore\n",
    "\n",
    "z_scores = np.abs(zscore(df[numerical_continuous]))\n",
    "threshold = 1\n",
    "df_clean = df[(z_scores < threshold).all(axis=1)]\n",
    "\n",
    "\n",
    "print('Original dataset rows:', len(df))\n",
    "print('Cleaned dataset rows:', len(df_clean))"
   ]
  },
  {
   "cell_type": "code",
   "execution_count": 13,
   "id": "c8654d4e",
   "metadata": {},
   "outputs": [
    {
     "data": {
      "image/png": "[encoded data removed]",
      "text/plain": [
       "<Figure size 1080x360 with 3 Axes>"
      ]
     },
     "metadata": {
      "needs_background": "light"
     },
     "output_type": "display_data"
    },
    {
     "data": {
      "image/png": "[encoded data removed]",
      "text/plain": [
       "<Figure size 1080x360 with 3 Axes>"
      ]
     },
     "metadata": {
      "needs_background": "light"
     },
     "output_type": "display_data"
    }
   ],
   "source": [
    "#6 Validate that your analysis above was successful by visualizing the value distribution in\n",
    "# the resulting columns using an appropriate visualization method. \n",
    "\n",
    "fig, axs = plt.subplots(ncols=3, figsize=(15, 5))\n",
    "for i, col in enumerate(numerical_continuous):\n",
    "    axs[i].boxplot(df[col])\n",
    "    axs[i].set_title(col)\n",
    "plt.show()\n",
    "\n",
    "# Calculate the z-score for each data point in the continuous columns\n",
    "z_scores = np.abs(zscore(df[numerical_continuous]))\n",
    "\n",
    "# Set a threshold for the z-score\n",
    "threshold = 1\n",
    "\n",
    "# Remove any data points that have a z-score greater than the threshold\n",
    "df_clean = df[(z_scores < threshold).all(axis=1)]\n",
    "\n",
    "# Create box plots of the cleaned data\n",
    "fig, axs = plt.subplots(ncols=3, figsize=(15, 5))\n",
    "for i, col in enumerate(numerical_continuous):\n",
    "    axs[i].boxplot(df_clean[col])\n",
    "    axs[i].set_title(col)\n",
    "plt.show()"
   ]
  },
  {
   "cell_type": "markdown",
   "id": "13740b87",
   "metadata": {},
   "source": [
    "Analysis seems successful for the age and bmi columns however there seems to still be outliers for the charges column"
   ]
  },
  {
   "cell_type": "code",
   "execution_count": 14,
   "id": "b256125a",
   "metadata": {},
   "outputs": [],
   "source": [
    "#7 Isolate all the categorical column names into a list named ‘categorical’.\n",
    "categorical = ['sex', 'smoker', 'region']"
   ]
  },
  {
   "cell_type": "code",
   "execution_count": 15,
   "id": "0162991c",
   "metadata": {},
   "outputs": [
    {
     "data": {
      "image/png": "[encoded data removed]",
      "text/plain": [
       "<Figure size 432x288 with 1 Axes>"
      ]
     },
     "metadata": {
      "needs_background": "light"
     },
     "output_type": "display_data"
    }
   ],
   "source": [
    "#8 Visually identify the outliers in the discrete and categorical features and resolve them using\n",
    "# the combined rare levels method.\n",
    "numerical_discrete= ['children']\n",
    "\n",
    "for col in numerical_discrete:\n",
    "    sns.countplot(x=col,data=df_clean)\n",
    "    plt.title(col)\n",
    "    plt.show()"
   ]
  },
  {
   "cell_type": "code",
   "execution_count": 16,
   "id": "7b93759d",
   "metadata": {},
   "outputs": [
    {
     "data": {
      "image/png": "[encoded data removed]",
      "text/plain": [
       "<Figure size 432x288 with 1 Axes>"
      ]
     },
     "metadata": {
      "needs_background": "light"
     },
     "output_type": "display_data"
    },
    {
     "data": {
      "image/png": "[encoded data removed]",
      "text/plain": [
       "<Figure size 432x288 with 1 Axes>"
      ]
     },
     "metadata": {
      "needs_background": "light"
     },
     "output_type": "display_data"
    },
    {
     "data": {
      "image/png": "[encoded data removed]",
      "text/plain": [
       "<Figure size 432x288 with 1 Axes>"
      ]
     },
     "metadata": {
      "needs_background": "light"
     },
     "output_type": "display_data"
    }
   ],
   "source": [
    "categorical = ['sex', 'smoker', 'region']\n",
    "for col in categorical :\n",
    "    sns.countplot(x=col,data=df_clean)\n",
    "    plt.title(col)\n",
    "    plt.show()"
   ]
  },
  {
   "cell_type": "code",
   "execution_count": 17,
   "id": "62d9527b",
   "metadata": {},
   "outputs": [
    {
     "name": "stdout",
     "output_type": "stream",
     "text": [
      "1       145\n",
      "0       125\n",
      "2        98\n",
      "3        62\n",
      "Rare     19\n",
      "Name: children, dtype: int64\n"
     ]
    },
    {
     "name": "stderr",
     "output_type": "stream",
     "text": [
      "C:\\Users\\9812170414089\\AppData\\Local\\Temp\\ipykernel_11680\\630791404.py:2: SettingWithCopyWarning: \n",
      "A value is trying to be set on a copy of a slice from a DataFrame.\n",
      "Try using .loc[row_indexer,col_indexer] = value instead\n",
      "\n",
      "See the caveats in the documentation: https://pandas.pydata.org/pandas-docs/stable/user_guide/indexing.html#returning-a-view-versus-a-copy\n",
      "  df_clean.loc[df_clean['children'].isin([4,5]), 'children'] = 'Rare'\n"
     ]
    }
   ],
   "source": [
    "# df_clean.loc[df_clean['children'].isin([4,5]),'children']='Rare'\n",
    "df_clean.loc[df_clean['children'].isin([4,5]), 'children'] = 'Rare'\n",
    "print(df_clean['children'].value_counts())"
   ]
  },
  {
   "cell_type": "code",
   "execution_count": 18,
   "id": "bbd12403",
   "metadata": {},
   "outputs": [
    {
     "name": "stdout",
     "output_type": "stream",
     "text": [
      "female    229\n",
      "male      220\n",
      "Name: sex, dtype: int64\n",
      "no     401\n",
      "yes     48\n",
      "Name: smoker, dtype: int64\n",
      "southwest    125\n",
      "northwest    118\n",
      "southeast    108\n",
      "northeast     98\n",
      "Name: region, dtype: int64\n"
     ]
    }
   ],
   "source": [
    "df_clean.loc[df_clean['sex'].isin([4,5]) | df_clean['smoker'].isin([4,5]) | df_clean['region'].isin([4,5]), ['sex', 'smoker', 'region']] = 'Rare'\n",
    "print(df_clean['sex'].value_counts())\n",
    "print(df_clean['smoker'].value_counts())\n",
    "print(df_clean['region'].value_counts())"
   ]
  },
  {
   "cell_type": "code",
   "execution_count": 27,
   "id": "b6ee98eb",
   "metadata": {},
   "outputs": [
    {
     "data": {
      "text/html": [
       "<div>\n",
       "<style scoped>\n",
       "    .dataframe tbody tr th:only-of-type {\n",
       "        vertical-align: middle;\n",
       "    }\n",
       "\n",
       "    .dataframe tbody tr th {\n",
       "        vertical-align: top;\n",
       "    }\n",
       "\n",
       "    .dataframe thead th {\n",
       "        text-align: right;\n",
       "    }\n",
       "</style>\n",
       "<table border=\"1\" class=\"dataframe\">\n",
       "  <thead>\n",
       "    <tr style=\"text-align: right;\">\n",
       "      <th></th>\n",
       "      <th>age</th>\n",
       "      <th>bmi</th>\n",
       "      <th>charges</th>\n",
       "      <th>sex_female</th>\n",
       "      <th>sex_male</th>\n",
       "      <th>smoker_no</th>\n",
       "      <th>smoker_yes</th>\n",
       "      <th>region_northeast</th>\n",
       "      <th>region_northwest</th>\n",
       "      <th>region_southeast</th>\n",
       "      <th>region_southwest</th>\n",
       "      <th>children_0</th>\n",
       "      <th>children_1</th>\n",
       "      <th>children_2</th>\n",
       "      <th>children_3</th>\n",
       "      <th>children_Rare</th>\n",
       "    </tr>\n",
       "  </thead>\n",
       "  <tbody>\n",
       "    <tr>\n",
       "      <th>2</th>\n",
       "      <td>28</td>\n",
       "      <td>33.00</td>\n",
       "      <td>4449.4620</td>\n",
       "      <td>0</td>\n",
       "      <td>1</td>\n",
       "      <td>1</td>\n",
       "      <td>0</td>\n",
       "      <td>0</td>\n",
       "      <td>0</td>\n",
       "      <td>1</td>\n",
       "      <td>0</td>\n",
       "      <td>0</td>\n",
       "      <td>0</td>\n",
       "      <td>0</td>\n",
       "      <td>1</td>\n",
       "      <td>0</td>\n",
       "    </tr>\n",
       "    <tr>\n",
       "      <th>4</th>\n",
       "      <td>32</td>\n",
       "      <td>28.88</td>\n",
       "      <td>3866.8552</td>\n",
       "      <td>0</td>\n",
       "      <td>1</td>\n",
       "      <td>1</td>\n",
       "      <td>0</td>\n",
       "      <td>0</td>\n",
       "      <td>1</td>\n",
       "      <td>0</td>\n",
       "      <td>0</td>\n",
       "      <td>1</td>\n",
       "      <td>0</td>\n",
       "      <td>0</td>\n",
       "      <td>0</td>\n",
       "      <td>0</td>\n",
       "    </tr>\n",
       "    <tr>\n",
       "      <th>5</th>\n",
       "      <td>31</td>\n",
       "      <td>25.74</td>\n",
       "      <td>3756.6216</td>\n",
       "      <td>1</td>\n",
       "      <td>0</td>\n",
       "      <td>1</td>\n",
       "      <td>0</td>\n",
       "      <td>0</td>\n",
       "      <td>0</td>\n",
       "      <td>1</td>\n",
       "      <td>0</td>\n",
       "      <td>1</td>\n",
       "      <td>0</td>\n",
       "      <td>0</td>\n",
       "      <td>0</td>\n",
       "      <td>0</td>\n",
       "    </tr>\n",
       "    <tr>\n",
       "      <th>6</th>\n",
       "      <td>46</td>\n",
       "      <td>33.44</td>\n",
       "      <td>8240.5896</td>\n",
       "      <td>1</td>\n",
       "      <td>0</td>\n",
       "      <td>1</td>\n",
       "      <td>0</td>\n",
       "      <td>0</td>\n",
       "      <td>0</td>\n",
       "      <td>1</td>\n",
       "      <td>0</td>\n",
       "      <td>0</td>\n",
       "      <td>1</td>\n",
       "      <td>0</td>\n",
       "      <td>0</td>\n",
       "      <td>0</td>\n",
       "    </tr>\n",
       "    <tr>\n",
       "      <th>7</th>\n",
       "      <td>37</td>\n",
       "      <td>27.74</td>\n",
       "      <td>7281.5056</td>\n",
       "      <td>1</td>\n",
       "      <td>0</td>\n",
       "      <td>1</td>\n",
       "      <td>0</td>\n",
       "      <td>0</td>\n",
       "      <td>1</td>\n",
       "      <td>0</td>\n",
       "      <td>0</td>\n",
       "      <td>0</td>\n",
       "      <td>0</td>\n",
       "      <td>0</td>\n",
       "      <td>1</td>\n",
       "      <td>0</td>\n",
       "    </tr>\n",
       "  </tbody>\n",
       "</table>\n",
       "</div>"
      ],
      "text/plain": [
       "   age    bmi    charges  sex_female  sex_male  smoker_no  smoker_yes  \\\n",
       "2   28  33.00  4449.4620           0         1          1           0   \n",
       "4   32  28.88  3866.8552           0         1          1           0   \n",
       "5   31  25.74  3756.6216           1         0          1           0   \n",
       "6   46  33.44  8240.5896           1         0          1           0   \n",
       "7   37  27.74  7281.5056           1         0          1           0   \n",
       "\n",
       "   region_northeast  region_northwest  region_southeast  region_southwest  \\\n",
       "2                 0                 0                 1                 0   \n",
       "4                 0                 1                 0                 0   \n",
       "5                 0                 0                 1                 0   \n",
       "6                 0                 0                 1                 0   \n",
       "7                 0                 1                 0                 0   \n",
       "\n",
       "   children_0  children_1  children_2  children_3  children_Rare  \n",
       "2           0           0           0           1              0  \n",
       "4           1           0           0           0              0  \n",
       "5           1           0           0           0              0  \n",
       "6           0           1           0           0              0  \n",
       "7           0           0           0           1              0  "
      ]
     },
     "execution_count": 27,
     "metadata": {},
     "output_type": "execute_result"
    }
   ],
   "source": [
    "#9 Encode the discrete and categorical features with one of the measures of central tendency\n",
    "\n",
    "categorical = ['sex', 'smoker', 'region', 'children']\n",
    "\n",
    "# create a new dataframe with the one-hot encoded features\n",
    "insurance_data_encoded = pd.get_dummies(df_clean, columns=categorical )\n",
    "\n",
    "# print the first few rows of the encoded dataframe\n",
    "insurance_data_encoded.head()\n"
   ]
  },
  {
   "cell_type": "code",
   "execution_count": 28,
   "id": "b7bd0dff",
   "metadata": {},
   "outputs": [],
   "source": [
    "#10 . Separate your features from the target appropriately. Narrow down the number of features\n",
    "# to 5 using the most appropriate and accurate method. Which feature had to be dropped and\n",
    "# what inference would you give as the main contributor of dropping the given feature\n",
    "# select all columns except for the target variable\n",
    "X = insurance_data_encoded.drop('charges', axis=1)\n",
    "\n",
    "# select only the target variable\n",
    "y = insurance_data_encoded['charges']\n",
    "\n"
   ]
  },
  {
   "cell_type": "code",
   "execution_count": 29,
   "id": "e580ce4e",
   "metadata": {},
   "outputs": [
    {
     "data": {
      "text/plain": [
       "Index(['age', 'bmi', 'smoker_no', 'smoker_yes', 'region_northeast'], dtype='object')"
      ]
     },
     "execution_count": 29,
     "metadata": {},
     "output_type": "execute_result"
    }
   ],
   "source": [
    "from sklearn.feature_selection import SelectKBest, f_regression\n",
    "\n",
    "# Select the top 5 features based on the f_regression score\n",
    "selector = SelectKBest(f_regression, k=5)\n",
    "\n",
    "# Fit selector to X and y\n",
    "selector.fit(X, y)\n",
    "\n",
    "# Get the top 5 feature names\n",
    "top_5_feature_names = X.columns[selector.get_support()]\n",
    "\n",
    "# Subset X to only include the top 5 features\n",
    "X_top5 = selector.transform(X)\n",
    "top_5_feature_names"
   ]
  },
  {
   "cell_type": "code",
   "execution_count": 31,
   "id": "87bf7fcf",
   "metadata": {},
   "outputs": [
    {
     "name": "stdout",
     "output_type": "stream",
     "text": [
      "['smoker_no', 'smoker_yes', 'age', 'bmi', 'region_northeast']\n"
     ]
    }
   ],
   "source": [
    "numerical = ['age', 'bmi', 'sex_female', 'sex_male', 'smoker_no', 'smoker_yes',\n",
    "       'region_northeast', 'region_northwest', 'region_southeast',\n",
    "       'region_southwest', 'children_0', 'children_1', 'children_2',\n",
    "       'children_3']\n",
    "\n",
    "# calculate the correlation coefficients between numerical features and the target variable\n",
    "corr_coeffs = insurance_data_encoded[numerical].corrwith(insurance_data_encoded['charges'])\n",
    "\n",
    "# sort the correlation coefficients in descending order and select the top 5 features\n",
    "top5_corr = corr_coeffs.abs().sort_values(ascending=False)[:5].index.tolist()\n",
    "\n",
    "# print the top 5 features\n",
    "print(top5_corr)\n"
   ]
  },
  {
   "cell_type": "code",
   "execution_count": 32,
   "id": "d9e1f7d0",
   "metadata": {},
   "outputs": [
    {
     "name": "stderr",
     "output_type": "stream",
     "text": [
      "C:\\Users\\9812170414089\\AppData\\Local\\Temp\\ipykernel_11680\\3090803626.py:6: SettingWithCopyWarning: \n",
      "A value is trying to be set on a copy of a slice from a DataFrame.\n",
      "Try using .loc[row_indexer,col_indexer] = value instead\n",
      "\n",
      "See the caveats in the documentation: https://pandas.pydata.org/pandas-docs/stable/user_guide/indexing.html#returning-a-view-versus-a-copy\n",
      "  top_5_features['charges'] = y\n"
     ]
    },
    {
     "data": {
      "image/png": "[encoded data removed]",
      "text/plain": [
       "<Figure size 576x432 with 2 Axes>"
      ]
     },
     "metadata": {
      "needs_background": "light"
     },
     "output_type": "display_data"
    }
   ],
   "source": [
    "# select only the top 5 features\n",
    "top_5_feature_names = ['age', 'bmi', 'smoker_no', 'smoker_yes', 'children_2']\n",
    "top_5_features = X[top_5_feature_names]\n",
    "\n",
    "# add the target variable to the top 5 features\n",
    "top_5_features['charges'] = y\n",
    "\n",
    "# compute the correlation matrix\n",
    "corr = top_5_features.corr()\n",
    "\n",
    "# plot the correlation heatmap\n",
    "plt.figure(figsize=(8, 6))\n",
    "sns.heatmap(corr, annot=True, cmap='coolwarm', vmin=-1, vmax=1)\n",
    "plt.title('Correlation Heatmap for Top 5 Features with Charges')\n",
    "plt.show()"
   ]
  },
  {
   "cell_type": "markdown",
   "id": "7ff0be2f",
   "metadata": {},
   "source": [
    "# ASSIGNMENT 8"
   ]
  },
  {
   "cell_type": "markdown",
   "id": "168ce392",
   "metadata": {},
   "source": [
    "1. Convert the target labels to their respective log values and give 2 reasons why this step\n",
    "may be useful as we train the machine learning model. (Explain in a markdown cell.)"
   ]
  },
  {
   "cell_type": "code",
   "execution_count": 33,
   "id": "d75a456f",
   "metadata": {},
   "outputs": [],
   "source": [
    "y_log = np.log(y)"
   ]
  },
  {
   "cell_type": "markdown",
   "id": "a78ec065",
   "metadata": {},
   "source": [
    "2. Slice the selected feature columns and the labels into the training and testing set. Also\n",
    "ensure your features are normalized"
   ]
  },
  {
   "cell_type": "code",
   "execution_count": 35,
   "id": "cda58a6e",
   "metadata": {},
   "outputs": [],
   "source": [
    "from sklearn.model_selection import train_test_split\n",
    "from sklearn.preprocessing import StandardScaler\n",
    "# regression based models imports\n",
    "from sklearn.linear_model import LinearRegression\n",
    "from sklearn.tree import DecisionTreeRegressor\n",
    "from sklearn.ensemble import RandomForestRegressor\n",
    "from xgboost import XGBRegressor\n",
    "from sklearn.metrics import mean_squared_error, mean_absolute_error, r2_score\n"
   ]
  },
  {
   "cell_type": "code",
   "execution_count": 36,
   "id": "76d06118",
   "metadata": {},
   "outputs": [],
   "source": [
    "X_train, X_test, y_train, y_test = train_test_split(X[top_5_feature_names], y_log, test_size=0.3, random_state=42)\n",
    "\n",
    "# Normalize the feature data using StandardScaler\n",
    "scaler = StandardScaler()\n",
    "X_train_scaled = scaler.fit_transform(X_train)\n",
    "X_test_scaled = scaler.transform(X_test)"
   ]
  },
  {
   "cell_type": "markdown",
   "id": "173384a3",
   "metadata": {},
   "source": [
    "3. Use at least 4 different regression based machine learning methods and use the training\n",
    "and testing cross accuracy and divergence to identify the best model."
   ]
  },
  {
   "cell_type": "code",
   "execution_count": 37,
   "id": "a1a3e777",
   "metadata": {},
   "outputs": [
    {
     "name": "stdout",
     "output_type": "stream",
     "text": [
      "Linear Regression MSE: 0.10, R2: 0.73\n",
      "Decision Tree Regression MSE: 0.24, R2: 0.35\n",
      "Random Forest Regression MSE: 0.13, R2: 0.64\n",
      "XGBoost Regression MSE: 0.16, R2: 0.58\n"
     ]
    }
   ],
   "source": [
    "# Train and evaluate Linear Regression model\n",
    "lr_model = LinearRegression()\n",
    "lr_model.fit(X_train_scaled, y_train)\n",
    "y_pred_lr = lr_model.predict(X_test_scaled)\n",
    "mse_lr = mean_squared_error(y_test, y_pred_lr)\n",
    "r2_lr = r2_score(y_test, y_pred_lr)\n",
    "\n",
    "# Train and evaluate Decision Tree Regression model\n",
    "dt_model = DecisionTreeRegressor()\n",
    "dt_model.fit(X_train_scaled, y_train)\n",
    "y_pred_dt = dt_model.predict(X_test_scaled)\n",
    "mse_dt = mean_squared_error(y_test, y_pred_dt)\n",
    "r2_dt = r2_score(y_test, y_pred_dt)\n",
    "\n",
    "# Train and evaluate Random Forest Regression model\n",
    "rf_model = RandomForestRegressor()\n",
    "rf_model.fit(X_train_scaled, y_train)\n",
    "y_pred_rf = rf_model.predict(X_test_scaled)\n",
    "mse_rf = mean_squared_error(y_test, y_pred_rf)\n",
    "r2_rf = r2_score(y_test, y_pred_rf)\n",
    "\n",
    "# Train and evaluate XGBoost Regression model\n",
    "xgb_model = XGBRegressor()\n",
    "xgb_model.fit(X_train_scaled, y_train)\n",
    "y_pred_xgb = xgb_model.predict(X_test_scaled)\n",
    "mse_xgb = mean_squared_error(y_test, y_pred_xgb)\n",
    "r2_xgb = r2_score(y_test, y_pred_xgb)\n",
    "\n",
    "# Print the Mean Squared Error (MSE) and R-squared (R2) values for each model\n",
    "print('Linear Regression MSE: {:.2f}, R2: {:.2f}'.format(mse_lr, r2_lr))\n",
    "print('Decision Tree Regression MSE: {:.2f}, R2: {:.2f}'.format(mse_dt, r2_dt))\n",
    "print('Random Forest Regression MSE: {:.2f}, R2: {:.2f}'.format(mse_rf, r2_rf))\n",
    "print('XGBoost Regression MSE: {:.2f}, R2: {:.2f}'.format(mse_xgb, r2_xgb))\n"
   ]
  },
  {
   "cell_type": "markdown",
   "id": "ae461eac",
   "metadata": {},
   "source": [
    "The best model is therefore Random Forest Regression since it has the lowest MSE (0.13) and the highest R2 (0.64)."
   ]
  },
  {
   "cell_type": "markdown",
   "id": "75c04c05",
   "metadata": {},
   "source": [
    "4. After identifying the best model, train it with the training data again. Using at least 3 model evaluation metrics in regression, evaluate the models training and testing score. Also ensure as you test the models, the predicted and actual targets have been converted back to the original values using antilog. (Hint: Antilog function is equal to Exponential)"
   ]
  },
  {
   "cell_type": "code",
   "execution_count": 39,
   "id": "694909a5",
   "metadata": {},
   "outputs": [
    {
     "name": "stdout",
     "output_type": "stream",
     "text": [
      "Random Forest Regression Training Scores:\n",
      "MSE: 3168920.26\n",
      "MAE: 727.95\n",
      "R2 score: 0.88\n",
      "\n",
      "Random Forest Regression Testing Scores:\n",
      "MSE: 12762224.43\n",
      "MAE: 1827.24\n",
      "R2 score: 0.69\n"
     ]
    }
   ],
   "source": [
    "rf_reg = RandomForestRegressor(n_estimators=100, random_state=42)\n",
    "\n",
    "# train the model on training data\n",
    "rf_reg.fit(X_train_scaled, y_train)\n",
    "\n",
    "# predict the target values for training and testing sets\n",
    "y_train_pred_log = rf_reg.predict(X_train_scaled)\n",
    "y_test_pred_log = rf_reg.predict(X_test_scaled)\n",
    "\n",
    "# convert predicted and actual targets back to original values\n",
    "y_train_pred = np.exp(y_train_pred_log)\n",
    "y_test_pred = np.exp(y_test_pred_log)\n",
    "y_train_orig = np.exp(y_train)\n",
    "y_test_orig = np.exp(y_test)\n",
    "\n",
    "# calculate regression metrics for training and testing sets\n",
    "train_mse = mean_squared_error(y_train_orig, y_train_pred)\n",
    "test_mse = mean_squared_error(y_test_orig, y_test_pred)\n",
    "train_mae = mean_absolute_error(y_train_orig, y_train_pred)\n",
    "test_mae = mean_absolute_error(y_test_orig, y_test_pred)\n",
    "train_r2 = r2_score(y_train_orig, y_train_pred)\n",
    "test_r2 = r2_score(y_test_orig, y_test_pred)\n",
    "\n",
    "# print regression metrics\n",
    "print(\"Random Forest Regression Training Scores:\")\n",
    "print(\"MSE: {:.2f}\".format(train_mse))\n",
    "print(\"MAE: {:.2f}\".format(train_mae))\n",
    "print(\"R2 score: {:.2f}\".format(train_r2))\n",
    "print()\n",
    "print(\"Random Forest Regression Testing Scores:\")\n",
    "print(\"MSE: {:.2f}\".format(test_mse))\n",
    "print(\"MAE: {:.2f}\".format(test_mae))\n",
    "print(\"R2 score: {:.2f}\".format(test_r2))"
   ]
  },
  {
   "cell_type": "code",
   "execution_count": null,
   "id": "9e50ed85",
   "metadata": {},
   "outputs": [],
   "source": []
  }
 ],
 "metadata": {
  "kernelspec": {
   "display_name": "Python 3 (ipykernel)",
   "language": "python",
   "name": "python3"
  },
  "language_info": {
   "codemirror_mode": {
    "name": "ipython",
    "version": 3
   },
   "file_extension": ".py",
   "mimetype": "text/x-python",
   "name": "python",
   "nbconvert_exporter": "python",
   "pygments_lexer": "ipython3",
   "version": "3.9.12"
  }
 },
 "nbformat": 4,
 "nbformat_minor": 5
}
